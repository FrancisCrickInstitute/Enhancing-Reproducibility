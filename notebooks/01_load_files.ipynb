{
 "cells": [
  {
   "cell_type": "markdown",
   "id": "ab242a90-1680-44e4-a979-89491aed05d1",
   "metadata": {},
   "source": [
    "### Import libraries"
   ]
  },
  {
   "cell_type": "code",
   "execution_count": 2,
   "id": "2e17e629-a5c1-45de-b1dd-4e9d86ca361e",
   "metadata": {},
   "outputs": [],
   "source": [
    "import re\n",
    "import matplotlib.pyplot as plt\n",
    "import numpy as np\n",
    "import pandas as pd\n",
    "import scipy.stats\n",
    "import seaborn as sns\n",
    "\n",
    "import tools as tools"
   ]
  },
  {
   "cell_type": "code",
   "execution_count": null,
   "id": "346edbb2-a471-4a2a-a550-01b05322b0bd",
   "metadata": {},
   "outputs": [],
   "source": [
    "annotations = load_and_prepare_data(\n",
    "    'E:/OneDrive - The Francis Crick Institute/Publications/2023_Dont_Trust_P_Values/idr0139-screenA-annotation.csv',\n",
    "    1093711385)\n",
    "treatments = annotations.set_index('Well')['Control Type'].to_dict()\n",
    "\n",
    "image_data = pd.read_csv('Z:/working/barryd/IDR/Outputs/Image.csv')\n",
    "nuc_data = pd.read_csv('Z:/working/barryd/IDR/Outputs/Nuclei.csv')\n",
    "cyto_data = pd.read_csv('Z:/working/barryd/IDR/Outputs/Cytoplasm.csv')"
   ]
  }
 ],
 "metadata": {
  "kernelspec": {
   "display_name": "Python 3 (ipykernel)",
   "language": "python",
   "name": "python3"
  },
  "language_info": {
   "codemirror_mode": {
    "name": "ipython",
    "version": 3
   },
   "file_extension": ".py",
   "mimetype": "text/x-python",
   "name": "python",
   "nbconvert_exporter": "python",
   "pygments_lexer": "ipython3",
   "version": "3.9.12"
  }
 },
 "nbformat": 4,
 "nbformat_minor": 5
}
