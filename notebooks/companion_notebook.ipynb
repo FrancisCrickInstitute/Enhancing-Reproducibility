{
 "cells": [
  {
   "cell_type": "markdown",
   "id": "ab242a90-1680-44e4-a979-89491aed05d1",
   "metadata": {},
   "source": [
    "## Companion notebook for \"Enhancing reproducibility in bioimage analysis: focus on controls and effect sizes, not just p-values\"\n",
    "\n",
    "In this notebook, you will be able to explore the data and graphs shown in the paper titled \"Enhancing reproducibility in bioimage analysis: focus on controls\n",
    "and effect sizes, not just p-values\".\n",
    "\n",
    "If you are interested in taking a look at the original images of Fascin knockdown (KD) HeLa cells under different experimental conditions from [Lawson et al., 2022](https://www.ncbi.nlm.nih.gov/pmc/articles/PMC9427113/), these are freely available on the [Image Data Resource](https://idr.openmicroscopy.org) under accession number IDR0139. We selected specific wells (Fig. 2-3: J05, O02, E22, L08; Fig. 4: J05, I19, G15, O02, B02, N12, L08, L18, H13, E22, H10, B06) from plate number 1093711385 for use in this work.\n",
    "\n",
    "We took into consideration three channels for each image: cell nuclei (Hoescht), Fascin and actin. Moreover, we compared data from specific pharmacological compounds (Fig. 1-3: SN0212398523; Fig. 4: SN0212398523, SN1066932540, SN1054616339), with three controls: untreated (negative control), DMSO (vehicle control), and Leptomycin b (positive control). Image analysis was performed in CellProfiler, with a pipeline available in associated [GitHub repo](https://github.com/djpbarry/dont-trust-p-values)."
   ]
  },
  {
   "cell_type": "markdown",
   "id": "413281d9",
   "metadata": {},
   "source": [
    "#### Import utility functions"
   ]
  },
  {
   "cell_type": "code",
   "execution_count": null,
   "id": "2e17e629-a5c1-45de-b1dd-4e9d86ca361e",
   "metadata": {},
   "outputs": [],
   "source": [
    "from utility_functions import *"
   ]
  },
  {
   "cell_type": "markdown",
   "id": "f5d02cfb-1cb1-4b38-b516-116a5cfc18e3",
   "metadata": {},
   "source": [
    "#### Set up parameters for plots"
   ]
  },
  {
   "cell_type": "code",
   "execution_count": null,
   "id": "405e4a4f-a5e3-4057-ad01-8da7029421a7",
   "metadata": {},
   "outputs": [],
   "source": [
    "plt.rcParams['font.size'] = 26\n",
    "plt.rcParams['axes.linewidth'] = 2\n",
    "color_dict = {'SN1066932540': 'red',\n",
    "              'SN1054616339': 'yellow',\n",
    "              'SN0212398523': 'orange',\n",
    "              'Untreated': 'blue',\n",
    "              'DMSO': 'gray',\n",
    "              'Leptomycin b': 'purple'}\n",
    "y_label = 'Relative Nuclear Fascin Localisation'"
   ]
  },
  {
   "cell_type": "markdown",
   "id": "3d552f0b-1e21-4921-bc01-d74b49decab2",
   "metadata": {},
   "source": [
    "#### Set up variables"
   ]
  },
  {
   "cell_type": "code",
   "execution_count": null,
   "id": "1fe02025-4596-4aeb-8d09-eaad04322d68",
   "metadata": {},
   "outputs": [],
   "source": [
    "plate_number = 1093711385\n",
    "treatment_col = 'Treatment'\n",
    "variable_of_interest = 'Fascin_Ratio'\n",
    "idr_annotations_file_path = '../inputs/idr/idr0139-screenA-annotation.csv'\n",
    "directories = ('../inputs/idr', '../outputs/plots', '../outputs/data')"
   ]
  },
  {
   "cell_type": "markdown",
   "id": "1feba24a-e18f-4134-86ac-39cb3ade6242",
   "metadata": {},
   "source": [
    "#### Load CellProfile analysis output"
   ]
  },
  {
   "cell_type": "code",
   "execution_count": null,
   "id": "9d007628-1f76-4474-9b59-b15859952ef4",
   "metadata": {},
   "outputs": [],
   "source": [
    "annotations = load_and_prepare_data(idr_annotations_file_path, plate_number)\n",
    "compounds = annotations[annotations['Control Type'] == 'Treated'].set_index('Well')['Proprietary Compound'].to_dict()\n",
    "treatments_to_compounds = {'Treated': 'Treated', 'Negative Control': 'Untreated',\n",
    "                           'Neutral Control': 'DMSO', 'Stimulator Control': 'Leptomycin b'}\n",
    "image_data = pd.read_csv('../inputs/cell_profiler_outputs/Image.csv')\n",
    "nuc_data = pd.read_csv('../inputs/cell_profiler_outputs/Nuclei.csv')\n",
    "cyto_data = pd.read_csv('../inputs/cell_profiler_outputs/Cytoplasm.csv')\n",
    "treatments = annotations.set_index('Well')['Control Type'].to_dict()"
   ]
  },
  {
   "cell_type": "markdown",
   "id": "ef05f402-0aae-40ab-adf7-115ce9b3c27e",
   "metadata": {},
   "source": [
    "#### Select data subsets"
   ]
  },
  {
   "cell_type": "code",
   "execution_count": null,
   "id": "9d782876-b39f-4043-b754-fdfb54b23d41",
   "metadata": {},
   "outputs": [],
   "source": [
    "data_subset = prepare_data(nuc_data, cyto_data, image_data, treatments, treatments_to_compounds, compounds,\n",
    "                           ['J05', 'O02', 'E22', 'L08'])"
   ]
  },
  {
   "cell_type": "markdown",
   "id": "924c8c45-8330-4aa8-9246-0b6a5cb08fc2",
   "metadata": {},
   "source": [
    "#### Plot figures\n",
    "##### Figure 2A-F"
   ]
  },
  {
   "cell_type": "code",
   "execution_count": null,
   "id": "ecc9627f-01ed-45fe-a16c-0e87ca756bcb",
   "metadata": {},
   "outputs": [],
   "source": [
    "point_size = 8\n",
    "random_seed = 42\n",
    "for s in [50, 200]:\n",
    "    if s > 50:\n",
    "        point_size = 4\n",
    "    for i in range(3):\n",
    "        generate_swarmplot(['Untreated', 'DMSO', 'SN0212398523', 'Leptomycin b'], data_subset, color_dict,\n",
    "                           treatment_col, variable_of_interest, y_label,\n",
    "                           point_size=point_size, random_seed=random_seed, sample_size=s)\n",
    "        random_seed = random_seed + 1"
   ]
  },
  {
   "cell_type": "markdown",
   "id": "236331e8-e4c9-4e8c-8bae-9391a50607d6",
   "metadata": {},
   "source": [
    "##### FIGURE 2 G - I"
   ]
  },
  {
   "cell_type": "code",
   "execution_count": null,
   "id": "0d826cd4-13ac-430f-9f84-25ea2337f30f",
   "metadata": {},
   "outputs": [],
   "source": [
    "plot_effect_size_v_sample_size([*range(10, 500, 10)], 100, data_subset, treatment_col, variable_of_interest,\n",
    "                               'Median Effect Size Relative to Untreated', ['SN0212398523', 'DMSO', 'Leptomycin b'])"
   ]
  },
  {
   "cell_type": "markdown",
   "id": "492cd2f0-d17a-4a94-b312-894dcfc4c7d5",
   "metadata": {},
   "source": [
    "##### Figure 3A"
   ]
  },
  {
   "cell_type": "code",
   "execution_count": null,
   "id": "5e3d090a-aa00-4c98-8503-6327e3c9ed45",
   "metadata": {},
   "outputs": [],
   "source": [
    "plot_iqr_v_sample_size([*range(10, 500, 10)], 100, data_subset, treatment_col, variable_of_interest,\n",
    "                       'Error in Inter-Quartile Range')"
   ]
  },
  {
   "cell_type": "markdown",
   "id": "e79e0c5d-9235-41c3-ab31-270c0356ffdd",
   "metadata": {},
   "source": [
    "##### Figure 3B-H"
   ]
  },
  {
   "cell_type": "code",
   "execution_count": null,
   "id": "84c463f5-e937-448f-bffe-aedec5ded982",
   "metadata": {},
   "outputs": [],
   "source": [
    "plot_cumulative_histogram_samples(data_subset, variable_of_interest, treatment_col, 'Untreated', y_label)"
   ]
  },
  {
   "cell_type": "markdown",
   "id": "4cb8c183-c126-4373-8cb2-e7002430cf3e",
   "metadata": {},
   "source": [
    "##### Figure 4A-C"
   ]
  },
  {
   "cell_type": "code",
   "execution_count": null,
   "id": "379bdd4d-31b2-4edf-819c-1f5faf913319",
   "metadata": {},
   "outputs": [],
   "source": [
    "selected_treatments = ['Untreated', 'DMSO', 'SN0212398523', 'SN1054616339', 'SN1066932540', 'Leptomycin b']\n",
    "point_size = {50: 8, 200: 4, 500: 2.5}\n",
    "for s in [50, 200, 500]:\n",
    "    generate_superplot(selected_treatments, selected_treatments,\n",
    "                       prepare_data(nuc_data, cyto_data, image_data, treatments, treatments_to_compounds,\n",
    "                                    compounds,\n",
    "                                    ['J05', 'I19', 'G15', 'O02', 'B02', 'N12', 'L08', 'L18', 'H13', 'E22',\n",
    "                                     'H10', 'B06']), color_dict, treatment_col, variable_of_interest,\n",
    "                       y_label, sample_size=s, point_size=point_size[s])"
   ]
  },
  {
   "cell_type": "markdown",
   "id": "e378d3b7-eb2f-4ee2-a345-7fe4e71c0157",
   "metadata": {},
   "source": [
    "##### Supplementary Figure 1"
   ]
  },
  {
   "cell_type": "code",
   "execution_count": null,
   "id": "324b5576-55f8-45c4-a571-c678798c571b",
   "metadata": {},
   "outputs": [],
   "source": [
    "generate_swarmplot(['Untreated', 'DMSO', 'SN0212398523', 'Leptomycin b'], data_subset, color_dict, treatment_col,\n",
    "                   variable_of_interest, y_label)"
   ]
  }
 ],
 "metadata": {
  "kernelspec": {
   "display_name": "Python 3 (ipykernel)",
   "language": "python",
   "name": "python3"
  },
  "language_info": {
   "codemirror_mode": {
    "name": "ipython",
    "version": 3
   },
   "file_extension": ".py",
   "mimetype": "text/x-python",
   "name": "python",
   "nbconvert_exporter": "python",
   "pygments_lexer": "ipython3",
   "version": "3.12.5"
  }
 },
 "nbformat": 4,
 "nbformat_minor": 5
}
